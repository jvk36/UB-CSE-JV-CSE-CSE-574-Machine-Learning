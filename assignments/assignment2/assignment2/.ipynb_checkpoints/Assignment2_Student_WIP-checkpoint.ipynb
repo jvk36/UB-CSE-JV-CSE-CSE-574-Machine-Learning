{
 "cells": [
  {
   "cell_type": "markdown",
   "metadata": {
    "id": "rapid-prague"
   },
   "source": [
    "\n",
    "# Programming Assignment 2\n",
    "\n",
    "In this assignment, you will:\n",
    "\n",
    "1. Practice writing code to train and evaluate models using both the two-way holdout method, and an evaluation approach appropriate for models with hyperparameters that uses k-fold cross validation plus a test set.\n",
    "\n",
    "2. Practice writing code to optimize a machine learning model. In particular, we will use gradient descent to optimize a logistic regression model.\n",
    "\n",
    "3. **574 Only**: Perform optimization with a different algorithm (Newton-Raphson)\n",
    "\n",
    "# Resources you can use to complete this assignment (a COMPLETE list)\n",
    "\n",
    "**NOTE: You ARE allowed to use Google to find things that fit this list (i.e. it is often easy to google something like \"plotly draw line graph\" to find the right part of the plotly documentation).**\n",
    "\n",
    "- Anything linked to in this article\n",
    "- Anything linked to from the course web page\n",
    "- Any materials from another online course taught at a university (**if you use this, you MUST provide a link to the exact document used**)\n",
    "- Anything posted by Kenny, Navid, or Yincheng on Piazza\n"
   ]
  },
  {
   "cell_type": "markdown",
   "metadata": {
    "id": "everyday-packing"
   },
   "source": [
    "\n",
    "# Grading\n",
    "\n",
    "For grading of code in Part 2, we will execute the submitted notebook as follows:\n",
    "\n",
    "```shell\n",
    "jupyter nbconvert --to python Assignment2-Student.ipynb\n",
    "python Assignment2-Student.py\n",
    "```\n",
    "\n",
    "The PDF that comes along with this document has other details on the points awarded for each part.\n",
    "\n",
    "As such, you will submit, one member of your group will subit as a zip file on UBLearns, a ```.zip``` file that contains 4 things:\n",
    "- Your completed jupyter notebook.\n",
    "- Your written report, answering all questions asked here (and copied in the assignment PDF)\n",
    "- `part_1.1_results.csv`\n",
    "- `part_1.4_results.csv`\n"
   ]
  },
  {
   "cell_type": "markdown",
   "metadata": {
    "id": "adjustable-double"
   },
   "source": [
    "# Part 1 - Predicting Review Scores on Pitchfork\n",
    "\n",
    "For Part 1, we will be using data from [this paper](https://ojs.aaai.org/index.php/ICWSM/article/view/7355). The data is a collection of reviews from [Pitchfork](https://pitchfork.com/), a site that provides expert reviews of music album. The authors of this paper have also combined the data with a set of features from [Spotify’s API](https://developer.spotify.com/documentation/web-api/) that provide insight into the music itself, e.g. the \"acousticness\" of the song.  We will tackle a regression problem here, trying to predict the score of a review from several of the other columns in the dataset.\n",
    "\n",
    "## Part 1.1 - Feature Engineering with Feature Subsets\n",
    "\n",
    "In the first subsection of Part 1, we’re going to rely on our old friend linear regression. We’re going to look at how running linear regression with various subsets of our features impacts our ability to predict score.\n",
    "\n",
    "In Part 1.1, your task is to write code below that trains a separate linear regression model for a number of different feature subsets.  Specifically:\n",
    "\n",
    "- The list `feature_sets` below is a list of lists; each sublist is a different subset of features to build a model with. \n",
    "- All models should be trained on the dataset `part1_train.csv`. \n",
    "- For each of these trained models, you should evaluate the model’s predictions on the training dataset, as well as the provided test set, called `part1_test.csv`. The evaluation metric we will use is **root mean squared error**.  \n",
    "\n",
    "Write out the result to a file called `part_1.1_results.csv` and submit this along with your assignment. The file should have the following columns:\n",
    "- `feature_set` - a column describing the features of the model used. For feature sets with multiple features, combine them using an underscore (you can do this with the code `\"_\".join(feature_set)`)\n",
    "- `training_rmse` - a column that gives the RMSE of a linear regression model trained on this feature set on the training data\n",
    "- `test_rmse` - a column that gives the RMSE of a linear regression model trained on this feature set on the test data\n",
    "\n",
    "In addition, please answer the following questions:\n",
    "- **1.1.1** Which model had the best RMSE on the *training data*? \n",
    "- **1.1.2** Which model had the best RMSE on the *test data*? \n",
    "- **1.1.3** Which feature do you believe was the most important one? Why? *(Note: There is more than one perfectly acceptable way to answer this question)*\n",
    "- **1.1.4** What can we say about the utility of the Spotify features based on these results?"
   ]
  },
  {
   "cell_type": "code",
   "execution_count": null,
   "metadata": {
    "colab": {
     "base_uri": "https://localhost:8080/",
     "height": 289,
     "resources": {
      "http://localhost:8080/nbextensions/google.colab/files.js": {
       "data": "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",
       "headers": [
        [
         "content-type",
         "application/javascript"
        ]
       ],
       "ok": true,
       "status": 200,
       "status_text": "OK"
      }
     }
    },
    "id": "QzkKIM-SdGBE",
    "outputId": "5067bc21-3fa0-421e-ca1e-99479c14270a"
   },
   "outputs": [
    {
     "data": {
      "text/html": [
       "\n",
       "     <input type=\"file\" id=\"files-1bc02062-87d4-4376-8956-b5ac07e09ec5\" name=\"files[]\" multiple disabled\n",
       "        style=\"border:none\" />\n",
       "     <output id=\"result-1bc02062-87d4-4376-8956-b5ac07e09ec5\">\n",
       "      Upload widget is only available when the cell has been executed in the\n",
       "      current browser session. Please rerun this cell to enable.\n",
       "      </output>\n",
       "      <script src=\"/nbextensions/google.colab/files.js\"></script> "
      ],
      "text/plain": [
       "<IPython.core.display.HTML object>"
      ]
     },
     "metadata": {},
     "output_type": "display_data"
    },
    {
     "name": "stdout",
     "output_type": "stream",
     "text": [
      "Saving part1_test.csv to part1_test (1).csv\n",
      "Saving part1_train.csv to part1_train (1).csv\n",
      "Saving 1.2_fold2.csv to 1.2_fold2.csv\n",
      "Saving 1.2_fold3.csv to 1.2_fold3.csv\n",
      "Saving 1.2_fold1.csv to 1.2_fold1.csv\n",
      "Saving 1.2_fold0.csv to 1.2_fold0.csv\n",
      "Saving 1.2_fold4.csv to 1.2_fold4.csv\n"
     ]
    }
   ],
   "source": [
    "from google.colab import files\n",
    "uploaded = files.upload()"
   ]
  },
  {
   "cell_type": "code",
   "execution_count": 2,
   "metadata": {
    "id": "waiting-bunch"
   },
   "outputs": [],
   "source": [
    "feature_sets = [['artist'],\n",
    " ['reviewauthor'],\n",
    " ['releaseyear'],\n",
    " ['recordlabel'],\n",
    " ['genre'],\n",
    " ['danceability'],\n",
    " ['energy'],\n",
    " ['key'],\n",
    " ['loudness'],\n",
    " ['speechiness'],\n",
    " ['acousticness'],\n",
    " ['instrumentalness'],\n",
    " ['liveness'],\n",
    " ['valence'],\n",
    " ['tempo'],\n",
    " ['danceability','energy','key','loudness','speechiness','acousticness',\n",
    "  'instrumentalness','liveness','valence','tempo'],\n",
    " ['artist', 'reviewauthor', 'releaseyear', 'recordlabel', 'genre'],\n",
    " ['artist', 'reviewauthor', 'releaseyear', 'recordlabel', 'genre', 'danceability', \n",
    "  'energy', 'key', 'loudness', 'speechiness', 'acousticness', 'instrumentalness',\n",
    "  'liveness', 'valence', 'tempo']]\n"
   ]
  },
  {
   "cell_type": "code",
   "execution_count": 4,
   "metadata": {
    "colab": {
     "base_uri": "https://localhost:8080/",
     "height": 790
    },
    "id": "caring-aluminum",
    "outputId": "88339482-6114-4064-d9c9-098572698e3c"
   },
   "outputs": [
    {
     "name": "stdout",
     "output_type": "stream",
     "text": [
      "0.24488948293189444\n",
      "0.21878337325381345\n"
     ]
    }
   ],
   "source": [
    "import pandas as pd\n",
    "import numpy as np\n",
    "import matplotlib.pyplot as plt\n",
    "import numpy as np\n",
    "from sklearn.metrics import mean_squared_error\n",
    "from sklearn.preprocessing import StandardScaler\n",
    "from sklearn.linear_model import LinearRegression\n",
    "from sklearn.model_selection import train_test_split\n",
    "from sklearn.preprocessing import OneHotEncoder\n",
    "\n",
    "def onehot_encode_var(data, variableslist,arg_drop='first',arg_sparse=True,istestset=False,encoder=None):   #changed this so i could reuse 1.2 - Sriram\n",
    "    # This function should take in a variable name in part3_data and return a onehot encoded matrix for that variable\n",
    "    \n",
    "    # Here's a starting point!\n",
    "    if encoder is None:\n",
    "      encoder = OneHotEncoder(categories='auto',drop=arg_drop,sparse=arg_sparse)\n",
    "      if arg_sparse:\n",
    "        onehot_encoded_variable = pd.DataFrame(encoder.fit_transform(data[variableslist]).toarray())\n",
    "      else:\n",
    "        onehot_encoded_variable = pd.DataFrame(encoder.fit_transform(data[variableslist]))\n",
    "    \n",
    "    else:\n",
    "      if arg_sparse:\n",
    "        onehot_encoded_variable = pd.DataFrame(encoder.transform(data[variableslist]).toarray())\n",
    "      else:\n",
    "        onehot_encoded_variable = pd.DataFrame(encoder.transform(data[variableslist]))\n",
    "    # Use the encoder\n",
    "      \n",
    "    onehot_encoded_variable.columns = encoder.get_feature_names_out() # Give names to one hot encoded columns. Otherwise it will be numeric\n",
    "    \n",
    "    # return the onehot encoded variable\n",
    "    if not istestset:\n",
    "      return onehot_encoded_variable, encoder\n",
    "    return onehot_encoded_variable, encoder.categories\n",
    "\n",
    "model = LinearRegression()\n",
    "\n",
    "# Convenience things for you, note that releaseyear is continuous but is not a Spotify API variable\n",
    "CONTINUOUS_FEATURES = ['releaseyear', 'danceability', 'energy', 'key', 'loudness',\n",
    "       'speechiness', 'acousticness', 'instrumentalness', 'liveness',\n",
    "       'valence', 'tempo']\n",
    "CATEGORICAL_FEATURES = ['artist', 'reviewauthor', 'recordlabel', 'genre']\n",
    "\n",
    "\n",
    "# Read in the data\n",
    "training_data = pd.read_csv(\"part1_train.csv\")\n",
    "test_data = pd.read_csv(\"part1_test.csv\")\n",
    "\n",
    "\n",
    "\n",
    "for cat_feature in CATEGORICAL_FEATURES:\n",
    "    encoded_col_train, _ = onehot_encode_var(training_data, [cat_feature])\n",
    "    encoded_col_test, _ = onehot_encode_var(test_data, [cat_feature])\n",
    "    training_data.drop(columns=cat_feature, axis=1, inplace=True)\n",
    "    test_data.drop(columns=cat_feature, axis=1, inplace=True)\n",
    "    encoded_col_train.reset_index(drop=True, inplace=True)\n",
    "    encoded_col_test.reset_index(drop=True, inplace=True)\n",
    "    training_data.reset_index(drop=True, inplace=True)\n",
    "    test_data.reset_index(drop=True, inplace=True)\n",
    "    training_data = pd.concat([encoded_col_train, training_data], axis = 1)\n",
    "    test_data = pd.concat([encoded_col_test, test_data], axis = 1)\n",
    "\n",
    "continuous_rescaled_X_train = StandardScaler().fit_transform(training_data[CONTINUOUS_FEATURES].values)\n",
    "training_data[CONTINUOUS_FEATURES] = continuous_rescaled_X_train\n",
    "continuous_rescaled_X_test = StandardScaler().fit_transform(test_data[CONTINUOUS_FEATURES].values)\n",
    "test_data[CONTINUOUS_FEATURES] = continuous_rescaled_X_test\n",
    "\n",
    "feature_set_list = list()\n",
    "for feature_set in feature_sets:\n",
    "    # Write your code for Part 1.1 here!\n",
    "    info_dict = dict()\n",
    "    if len(feature_set) == 1:\n",
    "        info_dict[\"feature_set\"]=feature_set[0]\n",
    "    else:\n",
    "        info_dict[\"feature_set\"] = \"_\".join(feature_set)\n",
    "    \n",
    "    # feature_set  = ['A'] - A_1, A_2\n",
    "    # feature_set = ['A', 'B'] - A does not exit in the df, A_1, A_2, A_3, B_1, B_2, B_3\n",
    "    columns_train = training_data.columns\n",
    "    columns_test = test_data.columns\n",
    "\n",
    "    X_train = pd.DataFrame()\n",
    "    X_test = pd.DataFrame()\n",
    "\n",
    "    for feature in feature_set:\n",
    "        for train_col in columns_train:\n",
    "            if feature in train_col: # feature = artist, columns = [artist_1, artist_2, score, year]\n",
    "                X_train[train_col] = training_data[train_col]\n",
    "        for test_col in columns_test:\n",
    "            if feature in test_col:\n",
    "                X_test[test_col] = test_data[test_col]\n",
    "        \n",
    "\n",
    "    # X_train = training_data[feature_set]\n",
    "    y_train = np.log2(training_data['score'] + 1)\n",
    "    y_test = np.log2(test_data['score'] + 1)\n",
    "    reg_train = LinearRegression().fit(X_train, y_train)\n",
    "    y_pred_train = reg_train.predict(X_train)\n",
    "    reg_test = LinearRegression().fit(X_test, y_test)\n",
    "    y_pred_test = reg_test.predict(X_test)\n",
    "    info_dict[\"training_rmse\"] = mean_squared_error(y_train, y_pred_train, squared=False)\n",
    "    info_dict[\"test_rmse\"] = mean_squared_error(y_test, y_pred_test, squared=False)\n",
    "    feature_set_list.append(info_dict)\n",
    "csv_data = pd.DataFrame(feature_set_list).to_csv('part1.1_results.csv')\n",
    "df = pd.read_csv('part1.1_results.csv')\n",
    "df\n",
    "print(df['training_rmse'].min())\n",
    "print(df['test_rmse'].min())"
   ]
  },
  {
   "cell_type": "markdown",
   "metadata": {
    "id": "addressed-mercy"
   },
   "source": [
    "## Part 1.2 - Feature Engineering with the LASSO\n",
    "\n",
    "In Part 1.2, your task is to write code below that trains an L1-regularized linear regression model, with an expanded feature set.  Specifically:\n",
    "\n",
    "1. Begin with the final feature set listed in `feature_sets` (i.e. your feature set, to begin this section, is `feature_sets[-1]`.\n",
    "2. One-hot encode your categorical variables, setting `drop=if_binary` and `sparse=False` in the function arguments. \n",
    "3. Scale all of your continuous features using the `StandardScaler`.\n",
    "4. Train an L1-regularized linear regression model using these features on the dataset `part1_train.csv`. You should use the [LassoCV](https://scikit-learn.org/stable/modules/generated/sklearn.linear_model.LassoCV.html) class in `sklearn`, it will do the cross-validation necessary to select the appropriate value for the regularizer for you!  Use 10-fold cross-validation to perform model selection (set the `LassoCV` parmaeter `cv` to 10), and set the `random_state` to 1. Do not change any of the other parameters to `LassoCV` (i.e. leave them at their defaults).\n",
    "5. Identify the best `alpha` value (the regularizer term, according to `sklearn`. In class, we refer to this as $\\lambda$!) in terms of average mean squared error according to the cross-validation.\n",
    "6. Finally, train a [Lasso](https://scikit-learn.org/stable/modules/generated/sklearn.linear_model.Lasso.html) model on the entire training dataset (`part1_train.csv`). You will use this to report the root mean squared error on the test set (Question 1.2.4 below), and use it in Part 1.3 below as well.\n",
    "\n",
    "**Hint: The proceedure outlined above is very similar to ones we have discussed in class and shown how to do using `Pipeline`s.** \n"
   ]
  },
  {
   "cell_type": "code",
   "execution_count": null,
   "metadata": {
    "colab": {
     "base_uri": "https://localhost:8080/"
    },
    "id": "loose-width",
    "outputId": "a2a25569-9019-419c-a655-ffb2f76d863f"
   },
   "outputs": [
    {
     "name": "stdout",
     "output_type": "stream",
     "text": [
      "number of features introduced by one hot:  680\n",
      "best_alpha:  3.87224703978818e-05\n",
      "training_rmse: 0.24625592947243133 test_rmse: 0.2662673832867446\n"
     ]
    }
   ],
   "source": [
    "# Write your code for Part 1.2 here\n",
    "from sklearn.linear_model import LassoCV, Lasso\n",
    "from sklearn.pipeline import make_pipeline,Pipeline\n",
    "from sklearn.compose import ColumnTransformer\n",
    "\n",
    "# Read in the data\n",
    "training_data = pd.read_csv(\"part1_train.csv\")\n",
    "test_data = pd.read_csv(\"part1_test.csv\")\n",
    "features = feature_sets[-1]\n",
    "\n",
    "#targets\n",
    "y_train = np.log2(training_data['score'] + 1)\n",
    "y_test = np.log2(test_data['score'] + 1)\n",
    "\n",
    "basic_pipeline = make_pipeline(\n",
    "        ColumnTransformer([('numerical', StandardScaler(), CONTINUOUS_FEATURES),\n",
    "                           (\"categorical\", OneHotEncoder(drop='if_binary',sparse=False),CATEGORICAL_FEATURES)]),\n",
    "    )\n",
    "\n",
    "# Do the CV to find alpha\n",
    "lassocv_pipe=Pipeline([(\"pipe\",basic_pipeline),(\"model\",LassoCV(cv=10,random_state=1))])\n",
    "lassocv_pipe.fit(training_data[features],y_train)\n",
    "y_pred_train=lassocv_pipe.predict(training_data[features])\n",
    "training_rmse=mean_squared_error(y_train,y_pred_train,squared=False)\n",
    "y_pred_test=lassocv_pipe.predict(test_data[features])\n",
    "test_rmse=mean_squared_error(y_test,y_pred_test,squared=False)\n",
    "best_alpha=lassocv_pipe.named_steps['model'].alpha_\n",
    "print('number of features introduced by one hot: ',len(lassocv_pipe.named_steps[\"pipe\"].named_steps['columntransformer'].named_transformers_['categorical'].get_feature_names_out()))\n",
    "#print('number of features: ',lassocv_pipe.named_steps[\"model\"].n_features_in_)\n",
    "#print('average_rmse_training: ',training_rmse)\n",
    "#print('test_rmse: ',test_rmse)\n",
    "print('best_alpha: ',best_alpha)\n",
    "\n",
    "# Retrain the model\n",
    "lasso_pipe=Pipeline([(\"pipe\",basic_pipeline),(\"model\",Lasso(alpha=best_alpha))])\n",
    "lasso_pipe.fit(training_data,y_train)\n",
    "y_pred_train=lasso_pipe.predict(training_data)\n",
    "training_rmse=mean_squared_error(y_train,y_pred_train,squared=False)\n",
    "y_pred_test=lasso_pipe.predict(test_data)\n",
    "test_rmse=mean_squared_error(y_test,y_pred_test,squared=False)\n",
    "print('training_rmse:',training_rmse,'test_rmse:',test_rmse)\n"
   ]
  },
  {
   "cell_type": "markdown",
   "metadata": {
    "id": "distinct-functionality"
   },
   "source": [
    "Now, answer the following questions:\n",
    "- **1.2.1** - How many total features are introduced by Step 2 above? Provide both the number and an explanation of how you got to this number.\n",
    "- **1.2.2** - What was the best `alpha` value according to your cross-validation results?\n",
    "- **1.2.3** - What was the **average RMSE** of the model with this `alpha` value on the k-fold cross validation on the *training* data?\n",
    "- **1.2.4** - What was the **RMSE** of the model with this `alpha` value on the k-fold cross validation on the *test* data?\n"
   ]
  },
  {
   "cell_type": "markdown",
   "metadata": {
    "id": "floating-vinyl"
   },
   "source": [
    "# Part 1.3 - Interpreting Model Coefficents\n",
    "\n",
    "In this section we will interpret the coefficients from the final model you trained on all of the training data.\n",
    "\n",
    "- **1.3.1** - How many non-zero coefficients are in this final model?\n",
    "- **1.3.2** - What percentage of the coefficients are non-zero in this final model?\n",
    "- **1.3.3** - Who were the three most critical review authors, as estimated by the model? How do you know?\n",
    "- **1.3.4** - Who were the three artists that reviewers tended to like the most?  How do you know?\n",
    "- **1.3.5** - What genre did Pitchfork reviewers tend to like the most? Which genre did they like the least?\n"
   ]
  },
  {
   "cell_type": "code",
   "execution_count": null,
   "metadata": {
    "colab": {
     "base_uri": "https://localhost:8080/"
    },
    "id": "formal-stable",
    "outputId": "5a6df4e1-a635-4e1c-a1d1-cdc801bef35e"
   },
   "outputs": [
    {
     "name": "stdout",
     "output_type": "stream",
     "text": [
      "number of non-zero elements:  468\n",
      "percentage of non-zero elements:  67.72793053545585\n",
      "                         score\n",
      "reviewauthor                  \n",
      "Joe Tangari         429.021448\n",
      "Mark Richardson     379.339351\n",
      "Stephen M. Deusner  371.207367\n",
      "                      score\n",
      "artist                     \n",
      "Xiu Xiu           29.092634\n",
      "Mount Eerie       22.273269\n",
      "Guided by Voices  21.937145\n",
      "                    score\n",
      "genre                    \n",
      "Electronic    2598.473454\n",
      "Experimental  1127.015258\n",
      "Folk/Country   448.203590\n",
      "Global         145.860875\n",
      "Jazz           210.813428\n",
      "Metal          526.479197\n",
      "Pop/R&B        861.809432\n",
      "Rap           1078.729773\n",
      "Rock          4623.728109\n",
      "none            14.448118\n"
     ]
    }
   ],
   "source": [
    "# Code for 1.3 here\n",
    "model = lasso_pipe.named_steps['model']\n",
    "# 1.3.1\n",
    "print('number of non-zero elements: ',np.nonzero(model.coef_)[0].size)\n",
    "# 1.3.2\n",
    "print('percentage of non-zero elements: ',np.nonzero(model.coef_)[0].size/model.coef_.size*100)\n",
    "# 1.3.3\n",
    "print((pd.concat([training_data['reviewauthor'],pd.DataFrame(np.power(2,y_pred_test)-1,columns=['score'])], axis=1).groupby('reviewauthor').sum()).sort_values(by=['score'],ascending=False)[2:5])\n",
    "# 1.3.4\n",
    "print((pd.concat([training_data['artist'],pd.DataFrame(np.power(2,y_pred_test)-1,columns=['score'])], axis=1).groupby('artist').sum()).sort_values(by=['score'],ascending=False)[2:5])\n",
    "# 1.3.5\n",
    "print(pd.concat([training_data['genre'],pd.DataFrame(np.power(2,y_pred_test)-1,columns=['score'])], axis=1).groupby('genre').sum())"
   ]
  },
  {
   "cell_type": "markdown",
   "metadata": {
    "id": "appropriate-lesbian"
   },
   "source": [
    "# Part 1.4 - \"Manual\" Cross-Validation + Holdout for Model Selection and Evaluation\n",
    "\n",
    "We will finally use cross validation for both algorithm and model selection, with a hold-out test set for a final evaluation. We will use **5-fold cross validation** to identify the best parameters and hyperparameters for a set of models. We will then take our final models and use a final hold-out test set (the same one as above) to estimate the generalization error of the models.\n",
    "\n",
    "Specifically, your task is first to write code that trains and evaluates the following models, one for each of the specified hyper parameters sets:\n",
    "\n",
    "- `Decision Tree regression` - All combinations of a `max_depth` of 5, 10, or 20, and a `criterion` of `\"squared error\"` or `\"absolute error\"`. Use the [DecisionTreeRegressor](https://scikit-learn.org/stable/modules/generated/sklearn.tree.DecisionTreeRegressor.html#sklearn.tree.DecisionTreeRegressor).\n",
    "- Ridge regression - Use the following choices of L2 penalty: $[10^{-5}, 10^{-4}, ..., 10^4, 10^5]$. In Python, you can create a list of these numbers using `np.logspace(-5, 5, 11)`. Use the [Ridge](https://scikit-learn.org/stable/modules/generated/sklearn.linear_model.Ridge.html#sklearn.linear_model.Ridge) class from sklearn to train a Ridge Regression model. The parameters you need to pass when constructing the Ridge model are `alpha`, which lets you specify what you want the L2 penalty to be, and `random_state=0` to avoid randomness.\n",
    "- kNN regression - Values of `n_neighbors` of 1, 5, 10, and 15. Use the [KNeighborsRegressor](https://scikit-learn.org/stable/modules/generated/sklearn.neighbors.KNeighborsRegressor.html) class.\n",
    "\n",
    "Additional notes:\n",
    "1. All models should use the feature sets described in Part 1.3 (the same ...one-hot encoded... categorical variables, and the scaled continuous variables)\n",
    "2. As opposed to using the `KFold` class from `sklearn` like we did in class, we have instead provided you with pre-existing data sets; you should therefore use the pre-split data in the provided CSV files ``1.2_fold0.csv ... 1.2_fold4.csv``\n",
    "\n",
    "**What to submit**:\n",
    "\n",
    "1. Write out the result to a file called `part_1.4_results.csv` and submit this along with your assignment. The file should have the following columns:\n",
    "- `model_name` - The name of the model, one of `DTR` (Decision Tree Regression), `Ridge`, or `KNN`.\n",
    "- `hyperparameter_setting` - a column describing the hyperparameters of the model. For models with multiple hyperparameters, combine them using an underscore (you can do this with the code `\"_\".join(hyperparameters)`).\n",
    "- `mean_training_rmse` - a column that gives the mean RMSE on the k-fold training data. You should take the average of the model’s errors on the different folds, using root mean squared error again as your evaluation metric.\n",
    "- `sd_training_rmse` - a column that gives the standard deviation RMSE on the k-fold training data.\n",
    "- `test_rmse` - a column that gives the RMSE of a linear regression model trained on this feature set on the test data\n",
    "\n",
    "\n",
    "2. Answer the following questions:\n",
    "- **1.4.1** Report, for each model, the hyper parameter setting that resulted in the best performance\n",
    "- **1.4.2** Which model performed the best overall on the cross-validation? \n",
    "- **1.4.3** Which model performed the best overall on the final test set? \n",
    "- **1.4.4** With respect to your answer for 1.4.3, why do you think that might be? (*Note: there is more than one correct way to answer this question*)\n",
    "- **1.4.5** Which model/hyperparameter setting had the highest standard deviation across the different folds of the cross validation?\n",
    "- **1.4.6** With respect to your answer for 1.4.6, why do you think that might be? (*Note: there is more than one correct way to answer this question*)"
   ]
  },
  {
   "cell_type": "code",
   "execution_count": null,
   "metadata": {
    "id": "s4edP46RzmPl"
   },
   "outputs": [],
   "source": [
    "from sklearn.linear_model import Ridge\n",
    "from sklearn.tree import DecisionTreeRegressor\n",
    "from sklearn.neighbors import KNeighborsRegressor\n",
    "\n",
    "def populate_metrics(training_data,test_data,model,y_train,y_test):\n",
    "  pipeline=Pipeline([('pipe',basic_pipeline),('dtrmodel',model)])\n",
    "  pipeline.fit(training_data,y_train)\n",
    "  y_pred_train=pipeline.predict(training_data)\n",
    "  ret1=mean_squared_error(y_train,y_pred_train,squared=False)\n",
    "  #y_pred_test=pipeline.predict(test_data)\n",
    "  #ret2=mean_squared_error(y_test,y_pred_test,squared=False)\n",
    "  return ret1\n",
    "\n",
    "# Read in the data\n",
    "features = feature_sets[-1]\n",
    "\n",
    "#targets\n",
    "\n",
    "\n",
    "basic_pipeline = make_pipeline(\n",
    "        ColumnTransformer([('numerical', StandardScaler(), CONTINUOUS_FEATURES),\n",
    "                           (\"categorical\", OneHotEncoder(drop='if_binary',sparse=False),CATEGORICAL_FEATURES)]),\n",
    "    )\n",
    "\n",
    "dtrparams=[(5,'squared_error'),(10,'squared_error'),(20,'squared_error'),(5,'absolute_error'),(10,'absolute_error'),(20,'absolute_error')]\n",
    "ridgeparams=np.logspace(-5,5,11)\n",
    "knnparams=[1,5,10,15]\n",
    "\n",
    "\n",
    "metrics_dtr=np.zeros(shape=(len(dtrparams),5,))\n",
    "metrics_ridge=np.zeros(shape=(ridgeparams.size,5,))\n",
    "metrics_knn=np.zeros(shape=(len(knnparams),5,))\n",
    "\n",
    "# Do the CV to find alpha\n",
    "for i in range(5):\n",
    "  training_data,test_data=train_test_split(pd.read_csv('1.2_fold'+str(i)+'.csv'),test_size=0.2,random_state=1)\n",
    "  y_train = np.log2(training_data['score'] + 1)\n",
    "  y_test = np.log2(test_data['score'] + 1)\n",
    "  for j,param in enumerate(dtrparams):\n",
    "    metrics_dtr[j,i]=populate_metrics(training_data,test_data,DecisionTreeRegressor(criterion=param[1],max_depth=param[0]),y_train,y_test)\n",
    "  for j,param in enumerate(ridgeparams):\n",
    "    metrics_ridge[j,i]=populate_metrics(training_data,test_data,Ridge(alpha=param),y_train,y_test)\n",
    "  for j,param in enumerate(knnparams):\n",
    "    metrics_knn[j,i]=populate_metrics(training_data,test_data,KNeighborsRegressor(n_neighbors=param),y_train,y_test)"
   ]
  },
  {
   "cell_type": "markdown",
   "metadata": {
    "id": "neither-viking"
   },
   "source": [
    "# Part 2\n",
    "\n",
    "In class, we have shifted from regression to classification. Here, we're going to get a little practice in optimizing one of the classification models we saw in class - logistic regression. As a reminder...\n",
    "\n",
    "The loss function of logistic regression (also known as the logistic-loss or log-loss) is given by:\n",
    "\\begin{equation}\n",
    "  J({\\bf w}) = \\frac{1}{n}\\sum_{i=1}^n \\log{(1 + \\exp{(-y_i{\\bf w}^\\top{\\bf x}_i}))}\n",
    "  \\label{eqn:logloss}\n",
    "\\end{equation}\n",
    "\n",
    "The gradient for this loss function, as derived in class, is:\n",
    "\\begin{equation}\n",
    "  \\nabla J({\\bf w}) = -\\frac{1}{n}\\sum_{i=1}^n \\frac{y_i}{1 + \\exp{(y_i{\\bf w}^\\top{\\bf x}_i)}}{\\bf x}_i\n",
    "  \\label{eqn:loglossgradient}\n",
    "\\end{equation}\n",
    "\n",
    "\n",
    "The Hessian for the loss function is given by:\n",
    "\\begin{equation}\n",
    "  {\\bf H}({\\bf w}) = \\frac{1}{n} \\sum_{i=1}^n \\frac{\\exp{(y_i{\\bf w}^\\top{\\bf x}_i)}}{(1 + \\exp{(y_i{\\bf w}^\\top{\\bf x}_i)})^2}{\\bf x}_i{\\bf x}_i^\\top\n",
    "  \\label{eqn:loglosshessian}\n",
    "\\end{equation}\n",
    "\n",
    "## Part 2.1 - Logistic Regression with Gradient Descent\n",
    "\n",
    "In Part 2.1 we will implement logistic regression with gradient descent. You need to finish implementing 3 functions:\n",
    "\n",
    "1. `logistic_objective` - compute the logistic loss for the given data set (see equation above)\n",
    "2. `logistic_gradient` - compute the gradient vector of logistic loss for the given data set (see equation above)\n",
    "3. `run_gradient_descent` - run the gradient descent algorithm, given these two functions.\n",
    "\n",
    "We have provided you with some simulation data to evaluate your method with. Part 2.1 will, however, largely be graded by evaluating your code on a slightly different dataset to ensure robustness. \n",
    "\n",
    "In addition, please submit answers to the following questions on your written report:\n",
    "\n",
    "- **2.1.1** - How did you go about selecting a good step size, i.e. one that was not too big or too small? (*Note: There is more than one correct answer to this*)\n",
    "- **2.1.2** - What is the condition under which we assume that the gradient descent algorithm has converged in the code here?\n",
    "- **2.1.3** - What is a different convergence metric we could have used? (*Note: There is more than one correct answer to this*)"
   ]
  },
  {
   "cell_type": "code",
   "execution_count": null,
   "metadata": {
    "id": "standard-roulette"
   },
   "outputs": [],
   "source": [
    "def logistic_objective(w, X, y):\n",
    "\n",
    "    # compute log-loss error (scalar) with respect\n",
    "    # to w (vector) for the given data X and y                               \n",
    "    # Inputs:\n",
    "    # w = d x 1\n",
    "    # X = N x d\n",
    "    # y = N x 1\n",
    "    # Output:\n",
    "    # error = scalar\n",
    "    \n",
    "    # IMPLEMENT THIS METHOD - REMOVE THE NEXT LINE\n",
    "    error = np.log(1 + np.exp(-y * (np.transpose(w)) * X))\n",
    "    return error\n",
    "\n",
    "def logistic_gradient(w, X, y):\n",
    "\n",
    "    # compute the gradient of the log-loss error (vector) with respect\n",
    "    # to w (vector) for the given data X and y  \n",
    "    #\n",
    "    # Inputs:\n",
    "    # w = d x 1\n",
    "    # X = N x d\n",
    "    # y = N x 1\n",
    "    # Output:\n",
    "    # error = d length gradient vector (not a d x 1 matrix)\n",
    "\n",
    "    # IMPLEMENT THIS METHOD - REMOVE THE NEXT LINE\n",
    "    gradient = (y * X) / (1 + np.exp(y * (np.transpose(w)) * X))\n",
    "    return gradient\n",
    "\n",
    "def run_gradient_descent(X,y):\n",
    "    old_w = np.array([-1]*X.shape[1])\n",
    "    # change this value! This is an unreasonable step size\n",
    "    step_size = 10000\n",
    "    new_w =old_w - 1\n",
    "    \n",
    "    while ((new_w-old_w)**2).sum() > .0000000001:\n",
    "        #IMPLEMENT THIS!\n",
    "        pass\n",
    "    return new_w\n"
   ]
  },
  {
   "cell_type": "code",
   "execution_count": null,
   "metadata": {
    "id": "crude-foundation"
   },
   "outputs": [],
   "source": [
    "from scipy.stats import uniform, bernoulli\n",
    "import functools\n",
    "draw_binary = functools.partial(np.random.binomial,n=1)\n",
    "\n",
    "## Simulated data to test your method\n",
    "DATA_SIZE = 10000\n",
    "x1 = bernoulli(.5).rvs(DATA_SIZE)\n",
    "x2 = np.floor(uniform(18,60).rvs(DATA_SIZE))\n",
    "true_w = [-9, 3.5, 0.2]\n",
    "xb = true_w[0] + true_w[1]*x1 + true_w[2]*x2\n",
    "p = 1/(1 + np.exp(-xb))\n",
    "y = np.array([1 if draw_binary(p=v) else -1 for v in p])"
   ]
  },
  {
   "cell_type": "code",
   "execution_count": null,
   "metadata": {
    "id": "noted-newton"
   },
   "outputs": [],
   "source": [
    "from sklearn.linear_model import LogisticRegression\n",
    "\n",
    "# notice that logistic regression as implemented in sklearn does not get the exact results either!\n",
    "# so you shouldn't worry if you're a bit off\n",
    "X = np.hstack([np.ones((len(xb),1)), x1[:,np.newaxis], x2[:,np.newaxis]])\n",
    "model = LogisticRegression(solver='liblinear', random_state=0,fit_intercept=False)\n",
    "model.fit(X,y).coef_"
   ]
  },
  {
   "cell_type": "code",
   "execution_count": null,
   "metadata": {
    "id": "american-locking"
   },
   "outputs": [],
   "source": [
    "# this is how we will test your results\n",
    "gd_result = run_gradient_descent(X,y)\n",
    "# is your result relatively close to the truth?\n",
    "np.abs(true_w-gd_result).sum()"
   ]
  },
  {
   "cell_type": "markdown",
   "metadata": {
    "id": "diagnostic-toddler"
   },
   "source": [
    "## <span style=\"color:red\"> 574 Only</span> Part 2.2 - Optimization with Newton-Raphson <span style=\"color:red\"> 574 Only</span>\n",
    "\n",
    "In Part 2.2, you are going to, instead of using gradient descent, use the Newton-Raphson method to optimize the same logistic regression model. To do so, you will need to 1) implement the `logistic_hessian` function to compute the Hessian matrix of logistic loss for the given data set, and 2) use `scipy`'s `optimize` function to perform the optimization, rather than writing a function by hand to do so.  \n",
    "\n",
    "For Part 2.2, you will only need to implement these functions, we will test them using our own code. You can, however, perform the same kinds of tests that we proposed above to check your work! "
   ]
  },
  {
   "cell_type": "code",
   "execution_count": null,
   "metadata": {
    "id": "conscious-spokesman"
   },
   "outputs": [],
   "source": [
    "def logistic_hessian(w, X, y):\n",
    "\n",
    "    # compute the Hessian of the log-loss error (matrix) with respect\n",
    "    # to w (vector) for the given data X and y                               \n",
    "    #\n",
    "    # Inputs:\n",
    "    # w = d x 1\n",
    "    # X = N x d\n",
    "    # y = N x 1\n",
    "    # Output:\n",
    "    # Hessian = d x d matrix\n",
    "    \n",
    "    \n",
    "    if len(w.shape) == 1:\n",
    "        w = w[:,np.newaxis]\n",
    "\n",
    "    # IMPLEMENT THIS METHOD - REMOVE THE NEXT LINE\n",
    "    hessian = (X * np.transpose(X) * np.exp(y * (np.transpose(w)) * X)) / (1 + np.exp(y * (np.transpose(w)) * X)) ** 2\n",
    "    return hessian"
   ]
  },
  {
   "cell_type": "code",
   "execution_count": null,
   "metadata": {
    "id": "bored-determination"
   },
   "outputs": [],
   "source": [
    "from scipy.optimize import minimize\n",
    "\n",
    "def run_newton_raphson(X,y):\n",
    "    args = (X,y[:,np.newaxis])\n",
    "    opts = {'maxiter' : 50}    # Preferred value.    \n",
    "    w_init = np.zeros(X.shape[1])\n",
    "    \n",
    "    # note: this is *almost* what you need, you just need to figure out what arguments are necessary here!\n",
    "    soln = minimize(PUT_THE_RIGHT_ARGUMENTS_IN_HERE!\n",
    "                    args=args,\n",
    "                    method='Newton-CG',\n",
    "                    options=opts)\n",
    "\n",
    "    w = np.transpose(np.array(soln.x))\n",
    "    w = w[:,np.newaxis]\n",
    "    return w\n"
   ]
  },
  {
   "cell_type": "code",
   "execution_count": null,
   "metadata": {
    "id": "liable-station"
   },
   "outputs": [],
   "source": [
    "run_newton_raphson(X,y)"
   ]
  }
 ],
 "metadata": {
  "colab": {
   "collapsed_sections": [],
   "name": "Assignment2-Student.ipynb",
   "provenance": []
  },
  "kernelspec": {
   "display_name": "Python 3",
   "language": "python",
   "name": "python3"
  },
  "language_info": {
   "codemirror_mode": {
    "name": "ipython",
    "version": 3
   },
   "file_extension": ".py",
   "mimetype": "text/x-python",
   "name": "python",
   "nbconvert_exporter": "python",
   "pygments_lexer": "ipython3",
   "version": "3.8.3"
  }
 },
 "nbformat": 4,
 "nbformat_minor": 5
}

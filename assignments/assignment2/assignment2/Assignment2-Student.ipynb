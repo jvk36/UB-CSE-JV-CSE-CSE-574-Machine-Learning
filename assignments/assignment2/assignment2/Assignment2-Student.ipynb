{
 "cells": [
  {
   "cell_type": "markdown",
   "metadata": {},
   "source": [
    "# Programming Assignment 2\n",
    "\n",
    "In this assignment, you will:\n",
    "\n",
    "1. Practice writing code to train and evaluate models using both the two-way holdout method, and an evaluation approach appropriate for models with hyperparameters that uses k-fold cross validation plus a test set.\n",
    "\n",
    "2. Practice writing code to optimize a machine learning model. In particular, we will use gradient descent to optimize a logistic regression model.\n",
    "\n",
    "3. **574 Only**: Perform optimization with a different algorithm (Newton-Raphson)\n",
    "\n",
    "# Resources you can use to complete this assignment (a COMPLETE list)\n",
    "\n",
    "**NOTE: You ARE allowed to use Google to find things that fit this list (i.e. it is often easy to google something like \"plotly draw line graph\" to find the right part of the plotly documentation).**\n",
    "\n",
    "- Anything linked to in this article\n",
    "- Anything linked to from the course web page\n",
    "- Any materials from another online course taught at a university (**if you use this, you MUST provide a link to the exact document used**)\n",
    "- Anything posted by Kenny, Navid, or Yincheng on Piazza\n"
   ]
  },
  {
   "cell_type": "markdown",
   "metadata": {},
   "source": [
    "\n",
    "# Grading\n",
    "\n",
    "For grading of code in Part 2, we will execute the submitted notebook as follows:\n",
    "\n",
    "```shell\n",
    "jupyter nbconvert --to python Assignment2-Student.ipynb\n",
    "python Assignment2-Student.py\n",
    "```\n",
    "\n",
    "The PDF that comes along with this document has other details on the points awarded for each part.\n",
    "\n",
    "As such, you will submit, one member of your group will subit as a zip file on UBLearns, a ```.zip``` file that contains 4 things:\n",
    "- Your completed jupyter notebook.\n",
    "- Your written report, answering all questions asked here (and copied in the assignment PDF)\n",
    "- `part_1.1_results.csv`\n",
    "- `part_1.4_results.csv`\n"
   ]
  },
  {
   "cell_type": "markdown",
   "metadata": {},
   "source": [
    "# Part 1 - Predicting Review Scores on Pitchfork\n",
    "\n",
    "For Part 1, we will be using data from [this paper](https://ojs.aaai.org/index.php/ICWSM/article/view/7355). The data is a collection of reviews from [Pitchfork](https://pitchfork.com/), a site that provides expert reviews of music album. The authors of this paper have also combined the data with a set of features from [Spotify’s API](https://developer.spotify.com/documentation/web-api/) that provide insight into the music itself, e.g. the \"acousticness\" of the song.  We will tackle a regression problem here, trying to predict the score of a review from several of the other columns in the dataset.\n",
    "\n",
    "## Part 1.1 - Feature Engineering with Feature Subsets\n",
    "\n",
    "In the first subsection of Part 1, we’re going to rely on our old friend linear regression. We’re going to look at how running linear regression with various subsets of our features impacts our ability to predict score.\n",
    "\n",
    "In Part 1.1, your task is to write code below that trains a separate linear regression model for a number of different feature subsets.  Specifically:\n",
    "\n",
    "- The list `feature_sets` below is a list of lists; each sublist is a different subset of features to build a model with. \n",
    "- All models should be trained on the dataset `part1_train.csv`. \n",
    "- For each of these trained models, you should evaluate the model’s predictions on the training dataset, as well as the provided test set, called `part1_test.csv`. The evaluation metric we will use is **root mean squared error**.  \n",
    "\n",
    "Write out the result to a file called `part_1.1_results.csv` and submit this along with your assignment. The file should have the following columns:\n",
    "- `feature_set` - a column describing the features of the model used. For feature sets with multiple features, combine them using an underscore (you can do this with the code `\"_\".join(feature_set)`)\n",
    "- `training_rmse` - a column that gives the RMSE of a linear regression model trained on this feature set on the training data\n",
    "- `test_rmse` - a column that gives the RMSE of a linear regression model trained on this feature set on the test data\n",
    "\n",
    "In addition, please answer the following questions:\n",
    "- **1.1.1** Which model had the best RMSE on the *training data*? \n",
    "- **1.1.2** Which model had the best RMSE on the *test data*? \n",
    "- **1.1.3** Which feature do you believe was the most important one? Why? *(Note: There is more than one perfectly acceptable way to answer this question)*\n",
    "- **1.1.4** What can we say about the utility of the Spotify features based on these results?"
   ]
  },
  {
   "cell_type": "code",
   "execution_count": 2,
   "metadata": {},
   "outputs": [],
   "source": [
    "feature_sets = [['artist'],\n",
    " ['reviewauthor'],\n",
    " ['releaseyear'],\n",
    " ['recordlabel'],\n",
    " ['genre'],\n",
    " ['danceability'],\n",
    " ['energy'],\n",
    " ['key'],\n",
    " ['loudness'],\n",
    " ['speechiness'],\n",
    " ['acousticness'],\n",
    " ['instrumentalness'],\n",
    " ['liveness'],\n",
    " ['valence'],\n",
    " ['tempo'],\n",
    " ['danceability','energy','key','loudness','speechiness','acousticness',\n",
    "  'instrumentalness','liveness','valence','tempo'],\n",
    " ['artist', 'reviewauthor', 'releaseyear', 'recordlabel', 'genre'],\n",
    " ['artist', 'reviewauthor', 'releaseyear', 'recordlabel', 'genre', 'danceability', \n",
    "  'energy', 'key', 'loudness', 'speechiness', 'acousticness', 'instrumentalness',\n",
    "  'liveness', 'valence', 'tempo']]\n"
   ]
  },
  {
   "cell_type": "code",
   "execution_count": 3,
   "metadata": {},
   "outputs": [],
   "source": [
    "import pandas as pd\n",
    "import numpy as np\n",
    "import matplotlib.pyplot as plt\n",
    "import numpy as np\n",
    "\n",
    "# Convenience things for you, note that releaseyear is continuous but is not a Spotify API variable\n",
    "CONTINUOUS_FEATURES = ['releaseyear', 'danceability', 'energy', 'key', 'loudness',\n",
    "       'speechiness', 'acousticness', 'instrumentalness', 'liveness',\n",
    "       'valence', 'tempo']\n",
    "CATEGORICAL_FEATURES = ['artist', 'reviewauthor', 'recordlabel', 'genre']\n",
    "\n",
    "# Read in the data\n",
    "training_data = pd.read_csv(\"part1_train.csv\")\n",
    "test_data = pd.read_csv(\"part1_test.csv\")\n",
    "\n",
    "result_data = []\n",
    "for feature_set in feature_sets:\n",
    "    # Write your code for Part 1.1 here!\n",
    "    pass"
   ]
  },
  {
   "cell_type": "markdown",
   "metadata": {},
   "source": [
    "## Part 1.2 - Feature Engineering with the LASSO\n",
    "\n",
    "In Part 1.2, your task is to write code below that trains an L1-regularized linear regression model, with an expanded feature set.  Specifically:\n",
    "\n",
    "1. Begin with the final feature set listed in `feature_sets` (i.e. your feature set, to begin this section, is `feature_sets[-1]`.\n",
    "2. One-hot encode your categorical variables, setting `drop=if_binary` and `sparse=False` in the function arguments. \n",
    "3. Scale all of your continuous features using the `StandardScaler`.\n",
    "4. Train an L1-regularized linear regression model using these features on the dataset `part1_train.csv`. You should use the [LassoCV](https://scikit-learn.org/stable/modules/generated/sklearn.linear_model.LassoCV.html) class in `sklearn`, it will do the cross-validation necessary to select the appropriate value for the regularizer for you!  Use 10-fold cross-validation to perform model selection (set the `LassoCV` parmaeter `cv` to 10), and set the `random_state` to 1. Do not change any of the other parameters to `LassoCV` (i.e. leave them at their defaults).\n",
    "5. Identify the best `alpha` value (the regularizer term, according to `sklearn`. In class, we refer to this as $\\lambda$!) in terms of average mean squared error according to the cross-validation.\n",
    "6. Finally, train a [Lasso](https://scikit-learn.org/stable/modules/generated/sklearn.linear_model.Lasso.html) model on the entire training dataset (`part1_train.csv`). You will use this to report the root mean squared error on the test set (Question 1.2.4 below), and use it in Part 1.3 below as well.\n",
    "\n",
    "**Hint: The proceedure outlined above is very similar to ones we have discussed in class and shown how to do using `Pipeline`s.** \n"
   ]
  },
  {
   "cell_type": "code",
   "execution_count": 4,
   "metadata": {},
   "outputs": [],
   "source": [
    "# Write your code for Part 1.2 here\n",
    "from sklearn.linear_model import LassoCV, Lasso\n",
    "\n",
    "# Do the CV to find alpha\n",
    "features = feature_sets[-1]\n",
    "\n",
    "# Retrain the model\n"
   ]
  },
  {
   "cell_type": "markdown",
   "metadata": {},
   "source": [
    "Now, answer the following questions:\n",
    "- **1.2.1** - How many total features are introduced by Step 2 above? Provide both the number and an explanation of how you got to this number.\n",
    "- **1.2.2** - What was the best `alpha` value according to your cross-validation results?\n",
    "- **1.2.3** - What was the **average RMSE** of the model with this `alpha` value on the k-fold cross validation on the *training* data?\n",
    "- **1.2.4** - What was the **RMSE** of the model with this `alpha` value on the k-fold cross validation on the *test* data?\n"
   ]
  },
  {
   "cell_type": "markdown",
   "metadata": {},
   "source": [
    "# Part 1.3 - Interpreting Model Coefficents\n",
    "\n",
    "In this section we will interpret the coefficients from the final model you trained on all of the training data.\n",
    "\n",
    "- **1.3.1** - How many non-zero coefficients are in this final model?\n",
    "- **1.3.2** - What percentage of the coefficients are non-zero in this final model?\n",
    "- **1.3.3** - Who were the three most critical review authors, as estimated by the model? How do you know?\n",
    "- **1.3.4** - Who were the three artists that reviewers tended to like the most?  How do you know?\n",
    "- **1.3.5** - What genre did Pitchfork reviewers tend to like the most? Which genre did they like the least?\n"
   ]
  },
  {
   "cell_type": "code",
   "execution_count": 5,
   "metadata": {},
   "outputs": [],
   "source": [
    "# Code for 1.3 here"
   ]
  },
  {
   "cell_type": "markdown",
   "metadata": {},
   "source": [
    "# Part 1.4 - \"Manual\" Cross-Validation + Holdout for Model Selection and Evaluation\n",
    "\n",
    "We will finally use cross validation for both algorithm and model selection, with a hold-out test set for a final evaluation. We will use **5-fold cross validation** to identify the best parameters and hyperparameters for a set of models. We will then take our final models and use a final hold-out test set (the same one as above) to estimate the generalization error of the models.\n",
    "\n",
    "Specifically, your task is first to write code that trains and evaluates the following models, one for each of the specified hyper parameters sets:\n",
    "\n",
    "- `Decision Tree regression` - All combinations of a `max_depth` of 5, 10, or 20, and a `criterion` of `\"squared error\"` or `\"absolute error\"`. Use the [DecisionTreeRegressor](https://scikit-learn.org/stable/modules/generated/sklearn.tree.DecisionTreeRegressor.html#sklearn.tree.DecisionTreeRegressor).\n",
    "- Ridge regression - Use the following choices of L2 penalty: $[10^{-5}, 10^{-4}, ..., 10^4, 10^5]$. In Python, you can create a list of these numbers using `np.logspace(-5, 5, 11)`. Use the [Ridge](https://scikit-learn.org/stable/modules/generated/sklearn.linear_model.Ridge.html#sklearn.linear_model.Ridge) class from sklearn to train a Ridge Regression model. The parameters you need to pass when constructing the Ridge model are `alpha`, which lets you specify what you want the L2 penalty to be, and `random_state=0` to avoid randomness.\n",
    "- kNN regression - Values of `n_neighbors` of 1, 5, 10, and 15. Use the [KNeighborsRegressor](https://scikit-learn.org/stable/modules/generated/sklearn.neighbors.KNeighborsRegressor.html) class.\n",
    "\n",
    "Additional notes:\n",
    "1. All models should use the feature sets described in Part 1.3 (the same ...one-hot encoded... categorical variables, and the scaled continuous variables)\n",
    "2. As opposed to using the `KFold` class from `sklearn` like we did in class, we have instead provided you with pre-existing data sets; you should therefore use the pre-split data in the provided CSV files ``1.2_fold0.csv ... 1.2_fold4.csv``\n",
    "\n",
    "**What to submit**:\n",
    "\n",
    "1. Write out the result to a file called `part_1.4_results.csv` and submit this along with your assignment. The file should have the following columns:\n",
    "- `model_name` - The name of the model, one of `DTR` (Decision Tree Regression), `Ridge`, or `KNN`.\n",
    "- `hyperparameter_setting` - a column describing the hyperparameters of the model. For models with multiple hyperparameters, combine them using an underscore (you can do this with the code `\"_\".join(hyperparameters)`).\n",
    "- `mean_training_rmse` - a column that gives the mean RMSE on the k-fold training data. You should take the average of the model’s errors on the different folds, using root mean squared error again as your evaluation metric.\n",
    "- `sd_training_rmse` - a column that gives the standard deviation RMSE on the k-fold training data.\n",
    "- `test_rmse` - a column that gives the RMSE of a linear regression model trained on this feature set on the test data\n",
    "\n",
    "\n",
    "2. Answer the following questions:\n",
    "- **1.4.1** Report, for each model, the hyper parameter setting that resulted in the best performance\n",
    "- **1.4.2** Which model performed the best overall on the cross-validation? \n",
    "- **1.4.3** Which model performed the best overall on the final test set? \n",
    "- **1.4.4** With respect to your answer for 1.4.3, why do you think that might be? (*Note: there is more than one correct way to answer this question*)\n",
    "- **1.4.5** Which model/hyperparameter setting had the highest standard deviation across the different folds of the cross validation?\n",
    "- **1.4.6** With respect to your answer for 1.4.6, why do you think that might be? (*Note: there is more than one correct way to answer this question*)"
   ]
  },
  {
   "cell_type": "markdown",
   "metadata": {},
   "source": [
    "# Part 2\n",
    "\n",
    "In class, we have shifted from regression to classification. Here, we're going to get a little practice in optimizing one of the classification models we saw in class - logistic regression. As a reminder...\n",
    "\n",
    "The loss function of logistic regression (also known as the logistic-loss or log-loss) is given by:\n",
    "\\begin{equation}\n",
    "  J({\\bf w}) = \\frac{1}{n}\\sum_{i=1}^n \\log{(1 + \\exp{(-y_i{\\bf w}^\\top{\\bf x}_i}))}\n",
    "  \\label{eqn:logloss}\n",
    "\\end{equation}\n",
    "\n",
    "The gradient for this loss function, as derived in class, is:\n",
    "\\begin{equation}\n",
    "  \\nabla J({\\bf w}) = -\\frac{1}{n}\\sum_{i=1}^n \\frac{y_i}{1 + \\exp{(y_i{\\bf w}^\\top{\\bf x}_i)}}{\\bf x}_i\n",
    "  \\label{eqn:loglossgradient}\n",
    "\\end{equation}\n",
    "\n",
    "\n",
    "The Hessian for the loss function is given by:\n",
    "\\begin{equation}\n",
    "  {\\bf H}({\\bf w}) = \\frac{1}{n} \\sum_{i=1}^n \\frac{\\exp{(y_i{\\bf w}^\\top{\\bf x}_i)}}{(1 + \\exp{(y_i{\\bf w}^\\top{\\bf x}_i)})^2}{\\bf x}_i{\\bf x}_i^\\top\n",
    "  \\label{eqn:loglosshessian}\n",
    "\\end{equation}\n",
    "\n",
    "## Part 2.1 - Logistic Regression with Gradient Descent\n",
    "\n",
    "In Part 2.1 we will implement logistic regression with gradient descent. You need to finish implementing 3 functions:\n",
    "\n",
    "1. `logistic_objective` - compute the logistic loss for the given data set (see equation above)\n",
    "2. `logistic_gradient` - compute the gradient vector of logistic loss for the given data set (see equation above)\n",
    "3. `run_gradient_descent` - run the gradient descent algorithm, given these two functions.\n",
    "\n",
    "We have provided you with some simulation data to evaluate your method with. Part 2.1 will, however, largely be graded by evaluating your code on a slightly different dataset to ensure robustness. \n",
    "\n",
    "In addition, please submit answers to the following questions on your written report:\n",
    "\n",
    "- **2.1.1** - How did you go about selecting a good step size, i.e. one that was not too big or too small? (*Note: There is more than one correct answer to this*)\n",
    "- **2.1.2** - What is the condition under which we assume that the gradient descent algorithm has converged in the code here?\n",
    "- **2.1.3** - What is a different convergence metric we could have used? (*Note: There is more than one correct answer to this*)"
   ]
  },
  {
   "cell_type": "code",
   "execution_count": 7,
   "metadata": {},
   "outputs": [],
   "source": [
    "def logistic_objective(w, X, y):\n",
    "\n",
    "    # compute log-loss error (scalar) with respect\n",
    "    # to w (vector) for the given data X and y                               \n",
    "    # Inputs:\n",
    "    # w = d x 1\n",
    "    # X = N x d\n",
    "    # y = N x 1\n",
    "    # Output:\n",
    "    # error = scalar\n",
    "    \n",
    "    # IMPLEMENT THIS METHOD - REMOVE THE NEXT LINE\n",
    "    error = 0\n",
    "    return error\n",
    "\n",
    "def logistic_gradient(w, X, y):\n",
    "\n",
    "    # compute the gradient of the log-loss error (vector) with respect\n",
    "    # to w (vector) for the given data X and y  \n",
    "    #\n",
    "    # Inputs:\n",
    "    # w = d x 1\n",
    "    # X = N x d\n",
    "    # y = N x 1\n",
    "    # Output:\n",
    "    # error = d length gradient vector (not a d x 1 matrix)\n",
    "\n",
    "    # IMPLEMENT THIS METHOD - REMOVE THE NEXT LINE\n",
    "    gradient = 0\n",
    "    return gradient\n",
    "\n",
    "def run_gradient_descent(X,y):\n",
    "    old_w = np.array([-1]*X.shape[1])\n",
    "    # change this value! This is an unreasonable step size\n",
    "    step_size = 10000\n",
    "    new_w =old_w - 1\n",
    "    \n",
    "    while ((new_w-old_w)**2).sum() > .0000000001:\n",
    "        #IMPLEMENT THIS!\n",
    "        pass\n",
    "    return new_w\n",
    "\n"
   ]
  },
  {
   "cell_type": "code",
   "execution_count": 8,
   "metadata": {},
   "outputs": [],
   "source": [
    "from scipy.stats import uniform, bernoulli\n",
    "import functools\n",
    "draw_binary = functools.partial(np.random.binomial,n=1)\n",
    "\n",
    "## Simulated data to test your method\n",
    "DATA_SIZE = 10000\n",
    "x1 = bernoulli(.5).rvs(DATA_SIZE)\n",
    "x2 = np.floor(uniform(18,60).rvs(DATA_SIZE))\n",
    "true_w = [-9, 3.5, 0.2]\n",
    "xb = true_w[0] + true_w[1]*x1 + true_w[2]*x2\n",
    "p = 1/(1 + np.exp(-xb))\n",
    "y = np.array([1 if draw_binary(p=v) else -1 for v in p])"
   ]
  },
  {
   "cell_type": "code",
   "execution_count": 9,
   "metadata": {},
   "outputs": [
    {
     "data": {
      "text/plain": [
       "array([[-8.58020492,  3.40771205,  0.19037032]])"
      ]
     },
     "execution_count": 9,
     "metadata": {},
     "output_type": "execute_result"
    }
   ],
   "source": [
    "from sklearn.linear_model import LogisticRegression\n",
    "\n",
    "# notice that logistic regression as implemented in sklearn does not get the exact results either!\n",
    "# so you shouldn't worry if you're a bit off\n",
    "X = np.hstack([np.ones((len(xb),1)), x1[:,np.newaxis], x2[:,np.newaxis]])\n",
    "model = LogisticRegression(solver='liblinear', random_state=0,fit_intercept=False)\n",
    "model.fit(X,y).coef_"
   ]
  },
  {
   "cell_type": "code",
   "execution_count": null,
   "metadata": {},
   "outputs": [],
   "source": [
    "# this is how we will test your results\n",
    "gd_result = run_gradient_descent(X,y)\n",
    "# is your result relatively close to the truth?\n",
    "np.abs(true_w-gd_result).sum()"
   ]
  },
  {
   "cell_type": "markdown",
   "metadata": {},
   "source": [
    "## <span style=\"color:red\"> 574 Only</span> Part 2.2 - Optimization with Newton-Raphson <span style=\"color:red\"> 574 Only</span>\n",
    "\n",
    "In Part 2.2, you are going to, instead of using gradient descent, use the Newton-Raphson method to optimize the same logistic regression model. To do so, you will need to 1) implement the `logistic_hessian` function to compute the Hessian matrix of logistic loss for the given data set, and 2) use `scipy`'s `optimize` function to perform the optimization, rather than writing a function by hand to do so.  \n",
    "\n",
    "For Part 2.2, you will only need to implement these functions, we will test them using our own code. You can, however, perform the same kinds of tests that we proposed above to check your work! "
   ]
  },
  {
   "cell_type": "code",
   "execution_count": null,
   "metadata": {},
   "outputs": [],
   "source": [
    "def logistic_hessian(w, X, y):\n",
    "\n",
    "    # compute the Hessian of the log-loss error (matrix) with respect\n",
    "    # to w (vector) for the given data X and y                               \n",
    "    #\n",
    "    # Inputs:\n",
    "    # w = d x 1\n",
    "    # X = N x d\n",
    "    # y = N x 1\n",
    "    # Output:\n",
    "    # Hessian = d x d matrix\n",
    "    \n",
    "    \n",
    "    if len(w.shape) == 1:\n",
    "        w = w[:,np.newaxis]\n",
    "\n",
    "    # IMPLEMENT THIS METHOD - REMOVE THE NEXT LINE\n",
    "    hessian = 0\n",
    "    return hessian"
   ]
  },
  {
   "cell_type": "code",
   "execution_count": null,
   "metadata": {},
   "outputs": [],
   "source": [
    "from scipy.optimize import minimize\n",
    "\n",
    "def run_newton_raphson(X,y):\n",
    "    args = (X,y[:,np.newaxis])\n",
    "    opts = {'maxiter' : 50}    # Preferred value.    \n",
    "    w_init = np.zeros(X.shape[1])\n",
    "    \n",
    "    # note: this is *almost* what you need, you just need to figure out what arguments are necessary here!\n",
    "    soln = minimize(PUT_THE_RIGHT_ARGUMENTS_IN_HERE!\n",
    "                    args=args,\n",
    "                    method='Newton-CG',\n",
    "                    options=opts)\n",
    "\n",
    "    w = np.transpose(np.array(soln.x))\n",
    "    w = w[:,np.newaxis]\n",
    "    return w\n"
   ]
  },
  {
   "cell_type": "code",
   "execution_count": null,
   "metadata": {},
   "outputs": [],
   "source": [
    "run_newton_raphson(X,y)"
   ]
  }
 ],
 "metadata": {
  "kernelspec": {
   "display_name": "Python 3",
   "language": "python",
   "name": "python3"
  },
  "language_info": {
   "codemirror_mode": {
    "name": "ipython",
    "version": 3
   },
   "file_extension": ".py",
   "mimetype": "text/x-python",
   "name": "python",
   "nbconvert_exporter": "python",
   "pygments_lexer": "ipython3",
   "version": "3.8.3"
  }
 },
 "nbformat": 4,
 "nbformat_minor": 5
}
